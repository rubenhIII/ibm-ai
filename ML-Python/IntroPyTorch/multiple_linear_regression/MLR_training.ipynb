{
 "cells": [
  {
   "cell_type": "code",
   "execution_count": null,
   "metadata": {},
   "outputs": [
    {
     "name": "stdout",
     "output_type": "stream",
     "text": [
      "linear_regression(\n",
      "  (linear): Linear(in_features=1, out_features=10, bias=True)\n",
      ")\n",
      "tensor([[1.]])\n",
      "tensor([[ 0.3089, -0.5028,  1.8616, -0.1331,  0.2839,  0.1578,  0.5762,  1.4668,\n",
      "          1.4975,  0.3003]], grad_fn=<AddmmBackward0>)\n"
     ]
    }
   ],
   "source": [
    "import torch\n",
    "from torch import nn\n",
    "from torch.utils.data import Dataset, DataLoader\n",
    "\n",
    "class linear_regression(nn.Module):\n",
    "    def __init__(self, input_size, output_size):\n",
    "        super(linear_regression, self).__init__()\n",
    "        self.linear = nn.Linear(input_size, output_size)\n",
    "\n",
    "    def forward(self, x):\n",
    "        yhat = self.linear(x)\n",
    "        return yhat\n",
    "\n",
    "model = linear_regression(1, 10)\n",
    "x = torch.tensor([[1.0]])\n",
    "print(model)\n",
    "print(x)\n",
    "print(model(x))\n"
   ]
  },
  {
   "cell_type": "code",
   "execution_count": 21,
   "metadata": {},
   "outputs": [],
   "source": [
    "class Data(Dataset):\n",
    "    def __init__(self):\n",
    "        self.x = torch.zeros(20, 2)\n",
    "        self.x[:, 0] = torch.arange(-1, 1, 0.1)\n",
    "        self.x[:, 1] = torch.arange(-1, 1, 0.1)\n",
    "        self.w = torch.tensor([[1.0, -1.0], [1.0, -1.0]])\n",
    "        self.b = torch.tensor([[1.0, -1.0]])\n",
    "        self.f = torch.mm(self.x, self.w) + self.b\n",
    "        self.y = self.f + 0.1 * torch.randn((self.x.shape[0], 1))\n",
    "        self.len = self.x.shape[0]\n",
    "\n",
    "    # Getter\n",
    "    def __getitem__(self, index):          \n",
    "        return self.x[index], self.y[index]\n",
    "    \n",
    "    # Get Length\n",
    "    def __len__(self):\n",
    "        return self.len\n"
   ]
  },
  {
   "cell_type": "code",
   "execution_count": 14,
   "metadata": {},
   "outputs": [],
   "source": [
    "import matplotlib.pyplot as plt\n",
    "import numpy as np\n",
    "\n",
    "def Plot_2D_Plane(model, dataset, n=0):\n",
    "    w1 = model.state_dict()['linear.weight'].numpy()[0][0]\n",
    "    w2 = model.state_dict()['linear.weight'].numpy()[0][1]\n",
    "    b = model.state_dict()['linear.bias'].numpy()\n",
    "\n",
    "    # Data\n",
    "    x1 = dataset.x[:, 0].view(-1, 1).numpy()\n",
    "    x2 = dataset.x[:, 1].view(-1, 1).numpy()\n",
    "    y = dataset.y.numpy()\n",
    "\n",
    "    # Make plane\n",
    "    X, Y = np.meshgrid(np.arange(x1.min(), x1.max(), 0.05), np.arange(x2.min(), x2.max(), 0.05))\n",
    "    yhat = w1 * X + w2 * Y + b\n",
    "\n",
    "    # Plotting\n",
    "    fig = plt.figure()\n",
    "    ax = fig.add_subplot(projection='3d')\n",
    "\n",
    "    ax.plot(x1[:, 0], x2[:, 0], y[:, 0],'ro', label='y') # Scatter plot\n",
    "    \n",
    "    ax.plot_surface(X, Y, yhat) # Plane plot\n",
    "    \n",
    "    ax.set_xlabel('x1 ')\n",
    "    ax.set_ylabel('x2 ')\n",
    "    ax.set_zlabel('y')\n",
    "    plt.title('estimated plane iteration:' + str(n))\n",
    "    ax.legend()\n",
    "\n",
    "    plt.show()\n"
   ]
  },
  {
   "cell_type": "code",
   "execution_count": 22,
   "metadata": {},
   "outputs": [
    {
     "data": {
      "image/png": "[encoded data removed]",
      "text/plain": [
       "<Figure size 640x480 with 1 Axes>"
      ]
     },
     "metadata": {},
     "output_type": "display_data"
    }
   ],
   "source": [
    "data_set = Data()\n",
    "loss = nn.MSELoss()\n",
    "model = linear_regression(2, 2)\n",
    "optim = torch.optim.SGD(model.parameters(), lr=0.1)\n",
    "training_data = DataLoader(dataset=data_set, batch_size=1)\n",
    "epochs = 100\n",
    "\n",
    "LOSS = []\n",
    "\n",
    "for epoch in range(epochs):\n",
    "    for x, y in training_data:\n",
    "        yhat = model(x)\n",
    "        loss_res = loss(yhat, y)\n",
    "        LOSS.append(loss_res.item())\n",
    "        optim.zero_grad()\n",
    "        loss_res.backward()\n",
    "        optim.step()\n",
    "\n",
    "plt.plot(LOSS)\n",
    "plt.xlabel(\"iterations \")\n",
    "plt.ylabel(\"Cost/total loss \")\n",
    "plt.show()\n",
    "\n",
    "        \n"
   ]
  }
 ],
 "metadata": {
  "kernelspec": {
   "display_name": "environment",
   "language": "python",
   "name": "python3"
  },
  "language_info": {
   "codemirror_mode": {
    "name": "ipython",
    "version": 3
   },
   "file_extension": ".py",
   "mimetype": "text/x-python",
   "name": "python",
   "nbconvert_exporter": "python",
   "pygments_lexer": "ipython3",
   "version": "3.11.2"
  }
 },
 "nbformat": 4,
 "nbformat_minor": 2
}
