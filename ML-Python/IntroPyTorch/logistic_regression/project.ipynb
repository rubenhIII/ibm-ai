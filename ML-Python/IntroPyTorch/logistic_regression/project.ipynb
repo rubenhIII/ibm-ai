{
 "cells": [
  {
   "cell_type": "code",
   "execution_count": null,
   "metadata": {},
   "outputs": [],
   "source": [
    "import torch\n",
    "import torch.nn as nn\n",
    "import pandas as pd\n",
    "from sklearn.model_selection import train_test_split\n",
    "from sklearn.preprocessing import StandardScaler\n",
    "from torch.utils.data import DataLoader, TensorDataset\n",
    "\n",
    "data = pd.read_csv(\"https://cf-courses-data.s3.us.cloud-object-storage.appdomain.cloud/rk7VDaPjMp1h5VXS-cUyMg/league-of-legends-data-large.csv\")\n",
    "X = data.drop('win', axis=1)\n",
    "y = data['win'].values\n",
    "\n",
    "# Split the data into training and test sets\n",
    "X_train, X_test, y_train, y_test = train_test_split(X, y, test_size=0.2, random_state=42)\n",
    "scaler = StandardScaler()\n",
    "X_train = scaler.fit_transform(X_train)\n",
    "X_test = scaler.transform(X_test)\n",
    "\n",
    "X_train = torch.tensor(X_train, dtype=torch.float32)\n",
    "y_train = torch.tensor(y_train, dtype=torch.float32)\n",
    "X_test = torch.tensor(X_test, dtype=torch.float32)\n",
    "y_test = torch.tensor(y_test, dtype=torch.float32)\n",
    "\n",
    "train_dataset = TensorDataset(X_train, y_train)\n",
    "test_dataset = TensorDataset(X_test, y_test)\n",
    "train_loader = DataLoader(train_dataset, batch_size=1)\n",
    "test_loader = DataLoader(test_dataset, batch_size=1)"
   ]
  },
  {
   "cell_type": "code",
   "execution_count": null,
   "metadata": {},
   "outputs": [],
   "source": [
    "class LogisticRegressionModel(nn.Module):\n",
    "    def __init__(self, input_size):\n",
    "        super(LogisticRegressionModel, self).__init__()\n",
    "        self.linear = nn.Linear(input_size, 1)\n",
    "    def forward(self, x):\n",
    "        yhat = torch.sigmoid(self.linear(x))\n",
    "        return yhat"
   ]
  },
  {
   "cell_type": "code",
   "execution_count": null,
   "metadata": {},
   "outputs": [],
   "source": [
    "model = LogisticRegressionModel(X_train.shape[1])\n",
    "criterion = nn.BCELoss()\n",
    "optimizer = torch.optim.SGD(model.parameters(), lr=0.01)\n",
    "epochs = 1000\n",
    "\n",
    "for epoch in range(epochs):\n",
    "    model.train()\n",
    "    for x,y in train_loader:\n",
    "        optimizer.zero_grad()\n",
    "        yhat = model(x)\n",
    "        loss = criterion(yhat, y.unsqueeze(0))\n",
    "        loss.backward()\n",
    "        optimizer.step()\n",
    "    if epoch % 100 == 0:\n",
    "            print(f'Epoch: {epoch} Loss: {loss.item()}')\n",
    "\n",
    "model.eval()\n",
    "test_loss = 0.0\n",
    "train_loss = 0.0\n",
    "with torch.no_grad(): # Ensures no gradients are calculated during evaluation\n",
    "    for x_train, y_train in train_loader:\n",
    "        yhat = model(x_train)\n",
    "        loss = criterion(yhat, y_train.unsqueeze(0))\n",
    "        train_loss += loss.item()\n",
    "    for x_test, y_test in test_loader:\n",
    "        yhat = model(x_test)\n",
    "        loss = criterion(yhat, y_test.unsqueeze(0))\n",
    "        test_loss += loss.item()\n",
    "        \n",
    "yhat = model(X_train)\n",
    "label = yhat > 0.5\n",
    "print(\"The accuracy for train dataset: \", torch.mean((label == y_train.type(torch.ByteTensor)).type(torch.float)))\n",
    "yhat = model(X_test)\n",
    "label = yhat > 0.5\n",
    "print(\"The accuracy for test dataset: \", torch.mean((label == y_test.type(torch.ByteTensor)).type(torch.float)))"
   ]
  },
  {
   "cell_type": "code",
   "execution_count": null,
   "metadata": {},
   "outputs": [
    {
     "name": "stdout",
     "output_type": "stream",
     "text": [
      "The accuracy for train dataset:  tensor(0.5113)\n",
      "The accuracy for test dataset:  tensor(0.5013)\n"
     ]
    }
   ],
   "source": [
    "model_optimized = LogisticRegressionModel(X_train.shape[1])\n",
    "criterion = nn.BCELoss()\n",
    "optimizer = torch.optim.SGD(model_optimized.parameters(), lr=0.01, weight_decay=0.01)\n",
    "epochs = 1000\n",
    "\n",
    "for epoch in range(epochs):\n",
    "    model.train()\n",
    "    for x,y in train_loader:\n",
    "        optimizer.zero_grad()\n",
    "        yhat = model_optimized(x)\n",
    "        loss = criterion(yhat, y.unsqueeze(0))\n",
    "        loss.backward()\n",
    "        optimizer.step()\n",
    "    if epoch % 100 == 0:\n",
    "            print(f'Epoch: {epoch} Loss: {loss.item()}')\n",
    "\n",
    "model_optimized.eval()\n",
    "test_loss = 0.0\n",
    "train_loss = 0.0\n",
    "with torch.no_grad(): # Ensures no gradients are calculated during evaluation\n",
    "    for x_train, y_train in train_loader:\n",
    "        yhat = model_optimized(x_train)\n",
    "        loss = criterion(yhat, y_train.unsqueeze(0))\n",
    "        train_loss += loss.item()\n",
    "    print(f'Train Loss: {train_loss}')\n",
    "    for x_test, y_test in test_loader:\n",
    "        yhat = model_optimized(x_test)\n",
    "        loss = criterion(yhat, y_test.unsqueeze(0))\n",
    "        test_loss += loss.item()\n",
    "    print(f'Test Loss: {test_loss}')\n",
    "    \n",
    "y_predicted_train = model_optimized(X_train)\n",
    "label_train = y_predicted_train > 0.5\n",
    "print(\"The accuracy for train dataset: \", torch.mean((label == y_train.type(torch.ByteTensor)).type(torch.float)))\n",
    "y_predicted_test = model_optimized(X_test)\n",
    "label_test = y_predicted_test > 0.5\n",
    "print(\"The accuracy for test dataset: \", torch.mean((label == y_test.type(torch.ByteTensor)).type(torch.float)))"
   ]
  },
  {
   "cell_type": "code",
   "execution_count": null,
   "metadata": {},
   "outputs": [
    {
     "name": "stdout",
     "output_type": "stream",
     "text": [
      "Epoch: 0 Loss: 0.9316130876541138\n",
      "The accuracy for train dataset:  tensor(0.5113)\n",
      "The accuracy for test dataset:  tensor(0.4750)\n"
     ]
    }
   ],
   "source": [
    "## Write your code here\n",
    "# Save the model\n",
    "torch.save(model_optimized.state_dict(), 'my_model_optimized.pth')\n",
    "# Load the model\n",
    "model2 = LogisticRegressionModel(X_train.shape[1])\n",
    "model2.load_state_dict(torch.load('my_model_optimized.pth'))\n",
    "# Ensure the loaded model is in evaluation mode\n",
    "model2.eval()\n",
    "# Evaluate the loaded model\n",
    "test_loss = 0.0\n",
    "train_loss = 0.0\n",
    "with torch.no_grad(): # Ensures no gradients are calculated during evaluation\n",
    "    for x_train, y_train in train_loader:\n",
    "        yhat = model_optimized(x_train)\n",
    "        loss = criterion(yhat, y_train.unsqueeze(0))\n",
    "        train_loss += loss.item()\n",
    "    print(f'Train Loss: {train_loss}')\n",
    "    for x_test, y_test in test_loader:\n",
    "        yhat = model_optimized(x_test)\n",
    "        loss = criterion(yhat, y_test.unsqueeze(0))\n",
    "        test_loss += loss.item()\n",
    "    print(f'Test Loss: {test_loss}')\n",
    "    \n",
    "y_predicted_train = model_optimized(X_train)\n",
    "label_train = y_predicted_train > 0.5\n",
    "print(\"The accuracy for train dataset: \", torch.mean((label == y_train.type(torch.ByteTensor)).type(torch.float)))\n",
    "y_predicted_test = model_optimized(X_test)\n",
    "label_test = y_predicted_test > 0.5\n",
    "print(\"The accuracy for test dataset: \", torch.mean((label == y_test.type(torch.ByteTensor)).type(torch.float)))\n"
   ]
  },
  {
   "cell_type": "code",
   "execution_count": null,
   "metadata": {},
   "outputs": [],
   "source": [
    "epochs = 50\n",
    "lrates = [0.01, 0.05, 0.1]\n",
    "\n",
    "for lrate in lrates:\n",
    "    model = LogisticRegressionModel(X_train.shape[1])\n",
    "    criterion = nn.BCELoss()\n",
    "    optimizer = torch.optim.SGD(model.parameters(), lr=lrate)\n",
    "    for epoch in range(epochs):\n",
    "        model.train()\n",
    "        for x,y in train_loader:\n",
    "            optimizer.zero_grad()\n",
    "            yhat = model(x)\n",
    "            loss = criterion(yhat, y.unsqueeze(0))\n",
    "            loss.backward()\n",
    "            optimizer.step()\n",
    "        if epoch % 100 == 0:\n",
    "                print(f'Epoch: {epoch} Loss: {loss.item()}')\n",
    "\n",
    "    y_pred_test = model(X_test)\n",
    "    label_test = y_pred_test > 0.5\n",
    "    print(f\"The accuracy for test dataset with lr={lrate}: \", torch.mean((label == y_test.type(torch.ByteTensor)).type(torch.float)))\n"
   ]
  }
 ],
 "metadata": {
  "kernelspec": {
   "display_name": "environment",
   "language": "python",
   "name": "python3"
  },
  "language_info": {
   "codemirror_mode": {
    "name": "ipython",
    "version": 3
   },
   "file_extension": ".py",
   "mimetype": "text/x-python",
   "name": "python",
   "nbconvert_exporter": "python",
   "pygments_lexer": "ipython3",
   "version": "3.11.2"
  }
 },
 "nbformat": 4,
 "nbformat_minor": 2
}
